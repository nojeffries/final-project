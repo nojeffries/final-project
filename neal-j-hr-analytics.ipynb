{
 "cells": [
  {
   "cell_type": "markdown",
   "metadata": {},
   "source": [
    "# Final Project  "
   ]
  },
  {
   "cell_type": "markdown",
   "metadata": {},
   "source": [
    "Data Description:\n",
    "\n",
    "The data consist of a number of worksheets that contain employee information to develop a prediction model for which employees are likely to leave the company. The variables are mostly employee characteristics (e.g. salary, time at the company, age, education, etc...) as well as two manager evaluation measurements (job performance and job involvement. The outcome variable of interest is whether or not the employee leaves the company in the calendar year (labeled attrition).  There are 4410 individuals and 29 variables.\n",
    "\n"
   ]
  },
  {
   "cell_type": "markdown",
   "metadata": {},
   "source": [
    "## 2) Provide a link to your data\n",
    "Your data is required to be free and open to anyone.\n",
    "As such, you should have a URL which anyone can use to download your data:"
   ]
  },
  {
   "cell_type": "markdown",
   "metadata": {},
   "source": [
    "https://www.kaggle.com/vjchoudhary7/hr-analytics-case-study"
   ]
  },
  {
   "cell_type": "code",
   "execution_count": 2,
   "metadata": {},
   "outputs": [
    {
     "name": "stdout",
     "output_type": "stream",
     "text": [
      "data_dictionary.xlsx\n",
      "employee_survey_data.csv\n",
      "general_data.csv\n",
      "in_time.csv\n",
      "manager_survey_data.csv\n",
      "out_time.csv\n"
     ]
    }
   ],
   "source": [
    "!ls ./data/hr-analytics-case-study"
   ]
  },
  {
   "cell_type": "markdown",
   "metadata": {},
   "source": [
    "data_dictionary.xlsx describes variables and is not included below. Similarly, in_time.csv and out_time.csv show timecard entry and exit times for every day for a year for every employee. These data are not used below so are not mentioned further. Data analysis will use data from employee_survey_data.csv, manager_survey_data, and general_data.csv."
   ]
  },
  {
   "cell_type": "markdown",
   "metadata": {},
   "source": [
    "## 3) Import your data\n",
    "In the space below, import your data.\n",
    "If your data span multiple files, read them all in.\n",
    "If applicable, merge or append them as needed."
   ]
  },
  {
   "cell_type": "code",
   "execution_count": 15,
   "metadata": {},
   "outputs": [],
   "source": [
    "import pandas as pd\n",
    "import numpy as np"
   ]
  },
  {
   "cell_type": "code",
   "execution_count": 16,
   "metadata": {},
   "outputs": [],
   "source": [
    "manager_survey = pd.read_csv('C:/htoc/biof309/final-project/data/hr-analytics-case-study/manager_survey_data.csv')\n",
    "employee_survey = pd.read_csv('C:/htoc/biof309/final-project/data/hr-analytics-case-study/employee_survey_data.csv')\n",
    "general_data = pd.read_csv('C:/htoc/biof309/final-project/data/hr-analytics-case-study/general_data.csv')\n",
    "\n",
    "pd.set_option('display.max_columns', None)\n",
    "\n",
    "#print(employee_survey.shape)\n",
    "#print(employee_survey.head())\n",
    "#print(manager_survey.shape)\n",
    "#print(manager_survey.head())\n",
    "#print(general_data.shape)\n",
    "#print(general_data.head())\n",
    "\n",
    "attrition_data = pd.merge(general_data,pd.merge(manager_survey,employee_survey,on='EmployeeID',how='inner'),\n",
    "                         on='EmployeeID',how='inner')"
   ]
  },
  {
   "cell_type": "markdown",
   "metadata": {},
   "source": [
    "## 4) Show me the head of your data."
   ]
  },
  {
   "cell_type": "code",
   "execution_count": 17,
   "metadata": {},
   "outputs": [
    {
     "data": {
      "text/html": [
       "<div>\n",
       "<style scoped>\n",
       "    .dataframe tbody tr th:only-of-type {\n",
       "        vertical-align: middle;\n",
       "    }\n",
       "\n",
       "    .dataframe tbody tr th {\n",
       "        vertical-align: top;\n",
       "    }\n",
       "\n",
       "    .dataframe thead th {\n",
       "        text-align: right;\n",
       "    }\n",
       "</style>\n",
       "<table border=\"1\" class=\"dataframe\">\n",
       "  <thead>\n",
       "    <tr style=\"text-align: right;\">\n",
       "      <th></th>\n",
       "      <th>Age</th>\n",
       "      <th>Attrition</th>\n",
       "      <th>BusinessTravel</th>\n",
       "      <th>Department</th>\n",
       "      <th>DistanceFromHome</th>\n",
       "      <th>Education</th>\n",
       "      <th>EducationField</th>\n",
       "      <th>EmployeeCount</th>\n",
       "      <th>EmployeeID</th>\n",
       "      <th>Gender</th>\n",
       "      <th>JobLevel</th>\n",
       "      <th>JobRole</th>\n",
       "      <th>MaritalStatus</th>\n",
       "      <th>MonthlyIncome</th>\n",
       "      <th>NumCompaniesWorked</th>\n",
       "      <th>Over18</th>\n",
       "      <th>PercentSalaryHike</th>\n",
       "      <th>StandardHours</th>\n",
       "      <th>StockOptionLevel</th>\n",
       "      <th>TotalWorkingYears</th>\n",
       "      <th>TrainingTimesLastYear</th>\n",
       "      <th>YearsAtCompany</th>\n",
       "      <th>YearsSinceLastPromotion</th>\n",
       "      <th>YearsWithCurrManager</th>\n",
       "      <th>JobInvolvement</th>\n",
       "      <th>PerformanceRating</th>\n",
       "      <th>EnvironmentSatisfaction</th>\n",
       "      <th>JobSatisfaction</th>\n",
       "      <th>WorkLifeBalance</th>\n",
       "    </tr>\n",
       "  </thead>\n",
       "  <tbody>\n",
       "    <tr>\n",
       "      <td>0</td>\n",
       "      <td>51</td>\n",
       "      <td>No</td>\n",
       "      <td>Travel_Rarely</td>\n",
       "      <td>Sales</td>\n",
       "      <td>6</td>\n",
       "      <td>2</td>\n",
       "      <td>Life Sciences</td>\n",
       "      <td>1</td>\n",
       "      <td>1</td>\n",
       "      <td>Female</td>\n",
       "      <td>1</td>\n",
       "      <td>Healthcare Representative</td>\n",
       "      <td>Married</td>\n",
       "      <td>131160</td>\n",
       "      <td>1.0</td>\n",
       "      <td>Y</td>\n",
       "      <td>11</td>\n",
       "      <td>8</td>\n",
       "      <td>0</td>\n",
       "      <td>1.0</td>\n",
       "      <td>6</td>\n",
       "      <td>1</td>\n",
       "      <td>0</td>\n",
       "      <td>0</td>\n",
       "      <td>3</td>\n",
       "      <td>3</td>\n",
       "      <td>3.0</td>\n",
       "      <td>4.0</td>\n",
       "      <td>2.0</td>\n",
       "    </tr>\n",
       "    <tr>\n",
       "      <td>1</td>\n",
       "      <td>31</td>\n",
       "      <td>Yes</td>\n",
       "      <td>Travel_Frequently</td>\n",
       "      <td>Research &amp; Development</td>\n",
       "      <td>10</td>\n",
       "      <td>1</td>\n",
       "      <td>Life Sciences</td>\n",
       "      <td>1</td>\n",
       "      <td>2</td>\n",
       "      <td>Female</td>\n",
       "      <td>1</td>\n",
       "      <td>Research Scientist</td>\n",
       "      <td>Single</td>\n",
       "      <td>41890</td>\n",
       "      <td>0.0</td>\n",
       "      <td>Y</td>\n",
       "      <td>23</td>\n",
       "      <td>8</td>\n",
       "      <td>1</td>\n",
       "      <td>6.0</td>\n",
       "      <td>3</td>\n",
       "      <td>5</td>\n",
       "      <td>1</td>\n",
       "      <td>4</td>\n",
       "      <td>2</td>\n",
       "      <td>4</td>\n",
       "      <td>3.0</td>\n",
       "      <td>2.0</td>\n",
       "      <td>4.0</td>\n",
       "    </tr>\n",
       "    <tr>\n",
       "      <td>2</td>\n",
       "      <td>32</td>\n",
       "      <td>No</td>\n",
       "      <td>Travel_Frequently</td>\n",
       "      <td>Research &amp; Development</td>\n",
       "      <td>17</td>\n",
       "      <td>4</td>\n",
       "      <td>Other</td>\n",
       "      <td>1</td>\n",
       "      <td>3</td>\n",
       "      <td>Male</td>\n",
       "      <td>4</td>\n",
       "      <td>Sales Executive</td>\n",
       "      <td>Married</td>\n",
       "      <td>193280</td>\n",
       "      <td>1.0</td>\n",
       "      <td>Y</td>\n",
       "      <td>15</td>\n",
       "      <td>8</td>\n",
       "      <td>3</td>\n",
       "      <td>5.0</td>\n",
       "      <td>2</td>\n",
       "      <td>5</td>\n",
       "      <td>0</td>\n",
       "      <td>3</td>\n",
       "      <td>3</td>\n",
       "      <td>3</td>\n",
       "      <td>2.0</td>\n",
       "      <td>2.0</td>\n",
       "      <td>1.0</td>\n",
       "    </tr>\n",
       "    <tr>\n",
       "      <td>3</td>\n",
       "      <td>38</td>\n",
       "      <td>No</td>\n",
       "      <td>Non-Travel</td>\n",
       "      <td>Research &amp; Development</td>\n",
       "      <td>2</td>\n",
       "      <td>5</td>\n",
       "      <td>Life Sciences</td>\n",
       "      <td>1</td>\n",
       "      <td>4</td>\n",
       "      <td>Male</td>\n",
       "      <td>3</td>\n",
       "      <td>Human Resources</td>\n",
       "      <td>Married</td>\n",
       "      <td>83210</td>\n",
       "      <td>3.0</td>\n",
       "      <td>Y</td>\n",
       "      <td>11</td>\n",
       "      <td>8</td>\n",
       "      <td>3</td>\n",
       "      <td>13.0</td>\n",
       "      <td>5</td>\n",
       "      <td>8</td>\n",
       "      <td>7</td>\n",
       "      <td>5</td>\n",
       "      <td>2</td>\n",
       "      <td>3</td>\n",
       "      <td>4.0</td>\n",
       "      <td>4.0</td>\n",
       "      <td>3.0</td>\n",
       "    </tr>\n",
       "    <tr>\n",
       "      <td>4</td>\n",
       "      <td>32</td>\n",
       "      <td>No</td>\n",
       "      <td>Travel_Rarely</td>\n",
       "      <td>Research &amp; Development</td>\n",
       "      <td>10</td>\n",
       "      <td>1</td>\n",
       "      <td>Medical</td>\n",
       "      <td>1</td>\n",
       "      <td>5</td>\n",
       "      <td>Male</td>\n",
       "      <td>1</td>\n",
       "      <td>Sales Executive</td>\n",
       "      <td>Single</td>\n",
       "      <td>23420</td>\n",
       "      <td>4.0</td>\n",
       "      <td>Y</td>\n",
       "      <td>12</td>\n",
       "      <td>8</td>\n",
       "      <td>2</td>\n",
       "      <td>9.0</td>\n",
       "      <td>2</td>\n",
       "      <td>6</td>\n",
       "      <td>0</td>\n",
       "      <td>4</td>\n",
       "      <td>3</td>\n",
       "      <td>3</td>\n",
       "      <td>4.0</td>\n",
       "      <td>1.0</td>\n",
       "      <td>3.0</td>\n",
       "    </tr>\n",
       "  </tbody>\n",
       "</table>\n",
       "</div>"
      ],
      "text/plain": [
       "   Age Attrition     BusinessTravel              Department  DistanceFromHome  \\\n",
       "0   51        No      Travel_Rarely                   Sales                 6   \n",
       "1   31       Yes  Travel_Frequently  Research & Development                10   \n",
       "2   32        No  Travel_Frequently  Research & Development                17   \n",
       "3   38        No         Non-Travel  Research & Development                 2   \n",
       "4   32        No      Travel_Rarely  Research & Development                10   \n",
       "\n",
       "   Education EducationField  EmployeeCount  EmployeeID  Gender  JobLevel  \\\n",
       "0          2  Life Sciences              1           1  Female         1   \n",
       "1          1  Life Sciences              1           2  Female         1   \n",
       "2          4          Other              1           3    Male         4   \n",
       "3          5  Life Sciences              1           4    Male         3   \n",
       "4          1        Medical              1           5    Male         1   \n",
       "\n",
       "                     JobRole MaritalStatus  MonthlyIncome  NumCompaniesWorked  \\\n",
       "0  Healthcare Representative       Married         131160                 1.0   \n",
       "1         Research Scientist        Single          41890                 0.0   \n",
       "2            Sales Executive       Married         193280                 1.0   \n",
       "3            Human Resources       Married          83210                 3.0   \n",
       "4            Sales Executive        Single          23420                 4.0   \n",
       "\n",
       "  Over18  PercentSalaryHike  StandardHours  StockOptionLevel  \\\n",
       "0      Y                 11              8                 0   \n",
       "1      Y                 23              8                 1   \n",
       "2      Y                 15              8                 3   \n",
       "3      Y                 11              8                 3   \n",
       "4      Y                 12              8                 2   \n",
       "\n",
       "   TotalWorkingYears  TrainingTimesLastYear  YearsAtCompany  \\\n",
       "0                1.0                      6               1   \n",
       "1                6.0                      3               5   \n",
       "2                5.0                      2               5   \n",
       "3               13.0                      5               8   \n",
       "4                9.0                      2               6   \n",
       "\n",
       "   YearsSinceLastPromotion  YearsWithCurrManager  JobInvolvement  \\\n",
       "0                        0                     0               3   \n",
       "1                        1                     4               2   \n",
       "2                        0                     3               3   \n",
       "3                        7                     5               2   \n",
       "4                        0                     4               3   \n",
       "\n",
       "   PerformanceRating  EnvironmentSatisfaction  JobSatisfaction  \\\n",
       "0                  3                      3.0              4.0   \n",
       "1                  4                      3.0              2.0   \n",
       "2                  3                      2.0              2.0   \n",
       "3                  3                      4.0              4.0   \n",
       "4                  3                      4.0              1.0   \n",
       "\n",
       "   WorkLifeBalance  \n",
       "0              2.0  \n",
       "1              4.0  \n",
       "2              1.0  \n",
       "3              3.0  \n",
       "4              3.0  "
      ]
     },
     "execution_count": 17,
     "metadata": {},
     "output_type": "execute_result"
    }
   ],
   "source": [
    "attrition_data.head()"
   ]
  },
  {
   "cell_type": "markdown",
   "metadata": {},
   "source": [
    "## 5) Show me the shape of your data"
   ]
  },
  {
   "cell_type": "code",
   "execution_count": 18,
   "metadata": {},
   "outputs": [
    {
     "name": "stdout",
     "output_type": "stream",
     "text": [
      "(4410, 4)\n",
      "(4410, 3)\n",
      "(4410, 24)\n",
      "(4410, 29)\n"
     ]
    }
   ],
   "source": [
    "print(employee_survey.shape)\n",
    "\n",
    "print(manager_survey.shape)\n",
    "\n",
    "print(general_data.shape)\n",
    "print(attrition_data.shape)"
   ]
  },
  {
   "cell_type": "markdown",
   "metadata": {},
   "source": [
    "## 6) Show me the proportion of missing observations for each column of your data"
   ]
  },
  {
   "cell_type": "code",
   "execution_count": 36,
   "metadata": {},
   "outputs": [
    {
     "name": "stdout",
     "output_type": "stream",
     "text": [
      "(4410, 29)\n",
      "                age attrition businesstravel              department  \\\n",
      "count   4410.000000      4410           4410                    4410   \n",
      "unique          NaN         2              3                       3   \n",
      "top             NaN        No  Travel_Rarely  Research & Development   \n",
      "freq            NaN      3699           3129                    2883   \n",
      "mean      36.923810       NaN            NaN                     NaN   \n",
      "std        9.133301       NaN            NaN                     NaN   \n",
      "min       18.000000       NaN            NaN                     NaN   \n",
      "25%       30.000000       NaN            NaN                     NaN   \n",
      "50%       36.000000       NaN            NaN                     NaN   \n",
      "75%       43.000000       NaN            NaN                     NaN   \n",
      "max       60.000000       NaN            NaN                     NaN   \n",
      "\n",
      "        distancefromhome    education educationfield  employeecount  \\\n",
      "count        4410.000000  4410.000000           4410         4410.0   \n",
      "unique               NaN          NaN              6            NaN   \n",
      "top                  NaN          NaN  Life Sciences            NaN   \n",
      "freq                 NaN          NaN           1818            NaN   \n",
      "mean            9.192517     2.912925            NaN            1.0   \n",
      "std             8.105026     1.023933            NaN            0.0   \n",
      "min             1.000000     1.000000            NaN            1.0   \n",
      "25%             2.000000     2.000000            NaN            1.0   \n",
      "50%             7.000000     3.000000            NaN            1.0   \n",
      "75%            14.000000     4.000000            NaN            1.0   \n",
      "max            29.000000     5.000000            NaN            1.0   \n",
      "\n",
      "         employeeid gender     joblevel          jobrole maritalstatus  \\\n",
      "count   4410.000000   4410  4410.000000             4410          4410   \n",
      "unique          NaN      2          NaN                9             3   \n",
      "top             NaN   Male          NaN  Sales Executive       Married   \n",
      "freq            NaN   2646          NaN              978          2019   \n",
      "mean    2205.500000    NaN     2.063946              NaN           NaN   \n",
      "std     1273.201673    NaN     1.106689              NaN           NaN   \n",
      "min        1.000000    NaN     1.000000              NaN           NaN   \n",
      "25%     1103.250000    NaN     1.000000              NaN           NaN   \n",
      "50%     2205.500000    NaN     2.000000              NaN           NaN   \n",
      "75%     3307.750000    NaN     3.000000              NaN           NaN   \n",
      "max     4410.000000    NaN     5.000000              NaN           NaN   \n",
      "\n",
      "        monthlyincome  numcompaniesworked over18  percentsalaryhike  \\\n",
      "count     4410.000000         4391.000000   4410        4410.000000   \n",
      "unique            NaN                 NaN      1                NaN   \n",
      "top               NaN                 NaN      Y                NaN   \n",
      "freq              NaN                 NaN   4410                NaN   \n",
      "mean     65029.312925            2.694830    NaN          15.209524   \n",
      "std      47068.888559            2.498887    NaN           3.659108   \n",
      "min      10090.000000            0.000000    NaN          11.000000   \n",
      "25%      29110.000000            1.000000    NaN          12.000000   \n",
      "50%      49190.000000            2.000000    NaN          14.000000   \n",
      "75%      83800.000000            4.000000    NaN          18.000000   \n",
      "max     199990.000000            9.000000    NaN          25.000000   \n",
      "\n",
      "        standardhours  stockoptionlevel  totalworkingyears  \\\n",
      "count          4410.0       4410.000000        4401.000000   \n",
      "unique            NaN               NaN                NaN   \n",
      "top               NaN               NaN                NaN   \n",
      "freq              NaN               NaN                NaN   \n",
      "mean              8.0          0.793878          11.279936   \n",
      "std               0.0          0.851883           7.782222   \n",
      "min               8.0          0.000000           0.000000   \n",
      "25%               8.0          0.000000           6.000000   \n",
      "50%               8.0          1.000000          10.000000   \n",
      "75%               8.0          1.000000          15.000000   \n",
      "max               8.0          3.000000          40.000000   \n",
      "\n",
      "        trainingtimeslastyear  yearsatcompany  yearssincelastpromotion  \\\n",
      "count             4410.000000     4410.000000              4410.000000   \n",
      "unique                    NaN             NaN                      NaN   \n",
      "top                       NaN             NaN                      NaN   \n",
      "freq                      NaN             NaN                      NaN   \n",
      "mean                 2.799320        7.008163                 2.187755   \n",
      "std                  1.288978        6.125135                 3.221699   \n",
      "min                  0.000000        0.000000                 0.000000   \n",
      "25%                  2.000000        3.000000                 0.000000   \n",
      "50%                  3.000000        5.000000                 1.000000   \n",
      "75%                  3.000000        9.000000                 3.000000   \n",
      "max                  6.000000       40.000000                15.000000   \n",
      "\n",
      "        yearswithcurrmanager  jobinvolvement  performancerating  \\\n",
      "count            4410.000000     4410.000000        4410.000000   \n",
      "unique                   NaN             NaN                NaN   \n",
      "top                      NaN             NaN                NaN   \n",
      "freq                     NaN             NaN                NaN   \n",
      "mean                4.123129        2.729932           3.153741   \n",
      "std                 3.567327        0.711400           0.360742   \n",
      "min                 0.000000        1.000000           3.000000   \n",
      "25%                 2.000000        2.000000           3.000000   \n",
      "50%                 3.000000        3.000000           3.000000   \n",
      "75%                 7.000000        3.000000           3.000000   \n",
      "max                17.000000        4.000000           4.000000   \n",
      "\n",
      "        environmentsatisfaction  jobsatisfaction  worklifebalance  \n",
      "count               4385.000000      4390.000000      4372.000000  \n",
      "unique                      NaN              NaN              NaN  \n",
      "top                         NaN              NaN              NaN  \n",
      "freq                        NaN              NaN              NaN  \n",
      "mean                   2.723603         2.728246         2.761436  \n",
      "std                    1.092756         1.101253         0.706245  \n",
      "min                    1.000000         1.000000         1.000000  \n",
      "25%                    2.000000         2.000000         2.000000  \n",
      "50%                    3.000000         3.000000         3.000000  \n",
      "75%                    4.000000         4.000000         3.000000  \n",
      "max                    4.000000         4.000000         4.000000  \n"
     ]
    }
   ],
   "source": [
    "attrition_data.columns = attrition_data.columns.str.lower()\n",
    "print(attrition_data.shape)\n",
    "#print(attrition_data.iloc[:,:5].describe(include='all'))\n",
    "#print(attrition_data.iloc[:5,10].describe(include='all'))\n",
    "#print(attrition_data.iloc[:10,15].describe())\n",
    "#print(attrition_data.iloc[:15,20].describe())\n",
    "#print(attrition_data.iloc[:20,25].describe(include='all'))\n",
    "print(attrition_data.describe(include='all'))"
   ]
  },
  {
   "cell_type": "markdown",
   "metadata": {},
   "source": [
    "### Show percentage missing in each column\n",
    "Consider attrition_data.dropna() to avoid possible errors in the logistic regression"
   ]
  },
  {
   "cell_type": "code",
   "execution_count": 37,
   "metadata": {
    "scrolled": false
   },
   "outputs": [
    {
     "name": "stdout",
     "output_type": "stream",
     "text": [
      "age \t 1.0\n",
      "attrition \t 1.0\n",
      "businesstravel \t 1.0\n",
      "department \t 1.0\n",
      "distancefromhome \t 1.0\n",
      "education \t 1.0\n",
      "educationfield \t 1.0\n",
      "employeecount \t 1.0\n",
      "employeeid \t 1.0\n",
      "gender \t 1.0\n",
      "joblevel \t 1.0\n",
      "jobrole \t 1.0\n",
      "maritalstatus \t 1.0\n",
      "monthlyincome \t 1.0\n",
      "numcompaniesworked \t 1.0\n",
      "over18 \t 1.0\n",
      "percentsalaryhike \t 1.0\n",
      "standardhours \t 1.0\n",
      "stockoptionlevel \t 1.0\n",
      "totalworkingyears \t 1.0\n",
      "trainingtimeslastyear \t 1.0\n",
      "yearsatcompany \t 1.0\n",
      "yearssincelastpromotion \t 1.0\n",
      "yearswithcurrmanager \t 1.0\n",
      "jobinvolvement \t 1.0\n",
      "performancerating \t 1.0\n",
      "environmentsatisfaction \t 0.99\n",
      "jobsatisfaction \t 1.0\n",
      "worklifebalance \t 0.99\n"
     ]
    }
   ],
   "source": [
    "(dim1,dim2) = attrition_data.shape\n",
    "\n",
    "for i in range(dim2) :\n",
    "        print(attrition_data.columns[i],'\\t',round(attrition_data.iloc[:,i].count()/dim1,2))\n",
    "        "
   ]
  },
  {
   "cell_type": "markdown",
   "metadata": {},
   "source": [
    "## 7) Give me a problem statement.\n",
    "Below, write a problem statement. Keep in mind that your task is to tease out relationships in your data and eventually build a predictive model. Your problem statement can be vague, but you should have a goal in mind. Your problem statement should be between one sentence and one paragraph."
   ]
  },
  {
   "cell_type": "markdown",
   "metadata": {},
   "source": [
    "A large company named XYZ, employs, at any given point of time, around 4000 employees. However, every year, around 15% of its employees leave the company and need to be replaced with the talent pool available in the job market. The management wants to know which factors they should focus on, in order to curb attrition. Also, they want to know which of these variables is most important.\n"
   ]
  },
  {
   "cell_type": "markdown",
   "metadata": {},
   "source": [
    "## 8) What is your _y_-variable?\n",
    "For final project, you will need to perform a statistical model. This means you will have to accurately predict some y-variable for some combination of x-variables. From your problem statement in part 7, what is that y-variable?"
   ]
  },
  {
   "cell_type": "markdown",
   "metadata": {},
   "source": [
    "\"attrition\" is a yes/no outcome indicating which of the 4410 individuals left the company. Many of the variables have 4 or 5 ordinal categories - as detailed in the data_dictionary.xlsx file the higher the number the better the rating/level. "
   ]
  },
  {
   "cell_type": "markdown",
   "metadata": {},
   "source": [
    "## Analytic approach\n",
    "\n",
    "There is not a great deal of missing data (less than 1% for each variable, most variables have complete data) so not much data is expected to be lost by focusing just on complete cases.\n",
    "\n",
    "I want to initially examine the variables by first considering their strength in a univariate logistic regression. This should reveal some of the more important variables and odd results should be noted and examined. However the primary analyses will be multivariable - 1) Lasso logistic regression, and 2) random forest approaches. "
   ]
  },
  {
   "cell_type": "code",
   "execution_count": 44,
   "metadata": {},
   "outputs": [],
   "source": [
    "from sklearn.linear_model import LogisticRegression\n",
    "from sklearn.metrics import classification_report, confusion_matrix\n",
    "\n",
    "attrition_data['attrition'] = np.where(attrition_data['attrition']==\"Yes\",1,0) # reset attrition as a 0-1 variable"
   ]
  },
  {
   "cell_type": "code",
   "execution_count": 48,
   "metadata": {},
   "outputs": [
    {
     "ename": "AttributeError",
     "evalue": "'Series' object has no attribute 'reshape'",
     "output_type": "error",
     "traceback": [
      "\u001b[1;31m---------------------------------------------------------------------------\u001b[0m",
      "\u001b[1;31mAttributeError\u001b[0m                            Traceback (most recent call last)",
      "\u001b[1;32m<ipython-input-48-2c586a7399fb>\u001b[0m in \u001b[0;36m<module>\u001b[1;34m\u001b[0m\n\u001b[0;32m      1\u001b[0m \u001b[0mpd\u001b[0m\u001b[1;33m.\u001b[0m\u001b[0mcrosstab\u001b[0m\u001b[1;33m(\u001b[0m\u001b[0mattrition_data\u001b[0m\u001b[1;33m[\u001b[0m\u001b[1;34m'attrition'\u001b[0m\u001b[1;33m]\u001b[0m\u001b[1;33m,\u001b[0m\u001b[0mcolumns\u001b[0m\u001b[1;33m=\u001b[0m\u001b[1;34m\"count\"\u001b[0m\u001b[1;33m)\u001b[0m\u001b[1;33m\u001b[0m\u001b[1;33m\u001b[0m\u001b[0m\n\u001b[1;32m----> 2\u001b[1;33m \u001b[0mlmod\u001b[0m \u001b[1;33m=\u001b[0m \u001b[0mLogisticRegression\u001b[0m\u001b[1;33m(\u001b[0m\u001b[1;33m)\u001b[0m\u001b[1;33m.\u001b[0m\u001b[0mfit\u001b[0m\u001b[1;33m(\u001b[0m\u001b[0mattrition_data\u001b[0m\u001b[1;33m[\u001b[0m\u001b[1;34m'performancerating'\u001b[0m\u001b[1;33m]\u001b[0m\u001b[1;33m.\u001b[0m\u001b[0mreshape\u001b[0m\u001b[1;33m(\u001b[0m\u001b[1;33m-\u001b[0m\u001b[1;36m1\u001b[0m\u001b[1;33m,\u001b[0m \u001b[1;36m1\u001b[0m\u001b[1;33m)\u001b[0m\u001b[1;33m,\u001b[0m\u001b[0mattrition_data\u001b[0m\u001b[1;33m[\u001b[0m\u001b[1;34m'attrition'\u001b[0m\u001b[1;33m]\u001b[0m\u001b[1;33m)\u001b[0m\u001b[1;33m\u001b[0m\u001b[1;33m\u001b[0m\u001b[0m\n\u001b[0m",
      "\u001b[1;32mC:\\htoc\\Anaconda3\\lib\\site-packages\\pandas\\core\\generic.py\u001b[0m in \u001b[0;36m__getattr__\u001b[1;34m(self, name)\u001b[0m\n\u001b[0;32m   5177\u001b[0m             \u001b[1;32mif\u001b[0m \u001b[0mself\u001b[0m\u001b[1;33m.\u001b[0m\u001b[0m_info_axis\u001b[0m\u001b[1;33m.\u001b[0m\u001b[0m_can_hold_identifiers_and_holds_name\u001b[0m\u001b[1;33m(\u001b[0m\u001b[0mname\u001b[0m\u001b[1;33m)\u001b[0m\u001b[1;33m:\u001b[0m\u001b[1;33m\u001b[0m\u001b[1;33m\u001b[0m\u001b[0m\n\u001b[0;32m   5178\u001b[0m                 \u001b[1;32mreturn\u001b[0m \u001b[0mself\u001b[0m\u001b[1;33m[\u001b[0m\u001b[0mname\u001b[0m\u001b[1;33m]\u001b[0m\u001b[1;33m\u001b[0m\u001b[1;33m\u001b[0m\u001b[0m\n\u001b[1;32m-> 5179\u001b[1;33m             \u001b[1;32mreturn\u001b[0m \u001b[0mobject\u001b[0m\u001b[1;33m.\u001b[0m\u001b[0m__getattribute__\u001b[0m\u001b[1;33m(\u001b[0m\u001b[0mself\u001b[0m\u001b[1;33m,\u001b[0m \u001b[0mname\u001b[0m\u001b[1;33m)\u001b[0m\u001b[1;33m\u001b[0m\u001b[1;33m\u001b[0m\u001b[0m\n\u001b[0m\u001b[0;32m   5180\u001b[0m \u001b[1;33m\u001b[0m\u001b[0m\n\u001b[0;32m   5181\u001b[0m     \u001b[1;32mdef\u001b[0m \u001b[0m__setattr__\u001b[0m\u001b[1;33m(\u001b[0m\u001b[0mself\u001b[0m\u001b[1;33m,\u001b[0m \u001b[0mname\u001b[0m\u001b[1;33m,\u001b[0m \u001b[0mvalue\u001b[0m\u001b[1;33m)\u001b[0m\u001b[1;33m:\u001b[0m\u001b[1;33m\u001b[0m\u001b[1;33m\u001b[0m\u001b[0m\n",
      "\u001b[1;31mAttributeError\u001b[0m: 'Series' object has no attribute 'reshape'"
     ]
    }
   ],
   "source": [
    "pd.crosstab(attrition_data['attrition'],columns=\"count\")\n",
    "lmod = LogisticRegression().fit(attrition_data['performancerating'].reshape(-1, 1),attrition_data['attrition'])"
   ]
  },
  {
   "cell_type": "code",
   "execution_count": null,
   "metadata": {},
   "outputs": [],
   "source": []
  }
 ],
 "metadata": {
  "kernelspec": {
   "display_name": "Python 3",
   "language": "python",
   "name": "python3"
  },
  "language_info": {
   "codemirror_mode": {
    "name": "ipython",
    "version": 3
   },
   "file_extension": ".py",
   "mimetype": "text/x-python",
   "name": "python",
   "nbconvert_exporter": "python",
   "pygments_lexer": "ipython3",
   "version": "3.7.4"
  }
 },
 "nbformat": 4,
 "nbformat_minor": 4
}
